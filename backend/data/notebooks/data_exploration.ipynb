{
 "cells": [
  {
   "cell_type": "code",
   "execution_count": 3,
   "id": "7c67baa3",
   "metadata": {},
   "outputs": [],
   "source": [
    "import pandas as pd\n",
    "import numpy as np\n"
   ]
  },
  {
   "cell_type": "code",
   "execution_count": 5,
   "id": "b453c788",
   "metadata": {},
   "outputs": [
    {
     "data": {
      "text/plain": [
       "(189, 17)"
      ]
     },
     "execution_count": 5,
     "metadata": {},
     "output_type": "execute_result"
    }
   ],
   "source": [
    "df=pd.read_csv('../dashboard_panels.csv')\n",
    "df.shape"
   ]
  },
  {
   "cell_type": "code",
   "execution_count": 6,
   "id": "d291d301",
   "metadata": {},
   "outputs": [
    {
     "name": "stdout",
     "output_type": "stream",
     "text": [
      "<class 'pandas.core.frame.DataFrame'>\n",
      "RangeIndex: 189 entries, 0 to 188\n",
      "Data columns (total 17 columns):\n",
      " #   Column              Non-Null Count  Dtype \n",
      "---  ------              --------------  ----- \n",
      " 0   dashboard_uid       189 non-null    object\n",
      " 1   dashboard_title     189 non-null    object\n",
      " 2   dashboard_category  189 non-null    object\n",
      " 3   panel_id            189 non-null    object\n",
      " 4   panel_title         189 non-null    object\n",
      " 5   panel_type          189 non-null    object\n",
      " 6   panel_description   49 non-null     object\n",
      " 7   metric_query        189 non-null    object\n",
      " 8   query_ref_id        189 non-null    object\n",
      " 9   unit                189 non-null    object\n",
      " 10  thresholds_config   189 non-null    object\n",
      " 11  grid_x              189 non-null    int64 \n",
      " 12  grid_y              189 non-null    int64 \n",
      " 13  grid_w              189 non-null    int64 \n",
      " 14  grid_h              189 non-null    int64 \n",
      " 15  datasource_type     189 non-null    object\n",
      " 16  datasource_uid      189 non-null    object\n",
      "dtypes: int64(4), object(13)\n",
      "memory usage: 25.2+ KB\n"
     ]
    }
   ],
   "source": [
    "df.info()"
   ]
  },
  {
   "cell_type": "code",
   "execution_count": 7,
   "id": "55c45742",
   "metadata": {},
   "outputs": [
    {
     "data": {
      "text/plain": [
       "dashboard_uid           0\n",
       "dashboard_title         0\n",
       "dashboard_category      0\n",
       "panel_id                0\n",
       "panel_title             0\n",
       "panel_type              0\n",
       "panel_description     140\n",
       "metric_query            0\n",
       "query_ref_id            0\n",
       "unit                    0\n",
       "thresholds_config       0\n",
       "grid_x                  0\n",
       "grid_y                  0\n",
       "grid_w                  0\n",
       "grid_h                  0\n",
       "datasource_type         0\n",
       "datasource_uid          0\n",
       "dtype: int64"
      ]
     },
     "execution_count": 7,
     "metadata": {},
     "output_type": "execute_result"
    }
   ],
   "source": [
    "df.isnull().sum()"
   ]
  },
  {
   "cell_type": "code",
   "execution_count": 8,
   "id": "4be61c48",
   "metadata": {},
   "outputs": [
    {
     "data": {
      "text/html": [
       "<div>\n",
       "<style scoped>\n",
       "    .dataframe tbody tr th:only-of-type {\n",
       "        vertical-align: middle;\n",
       "    }\n",
       "\n",
       "    .dataframe tbody tr th {\n",
       "        vertical-align: top;\n",
       "    }\n",
       "\n",
       "    .dataframe thead th {\n",
       "        text-align: right;\n",
       "    }\n",
       "</style>\n",
       "<table border=\"1\" class=\"dataframe\">\n",
       "  <thead>\n",
       "    <tr style=\"text-align: right;\">\n",
       "      <th></th>\n",
       "      <th>dashboard_uid</th>\n",
       "      <th>dashboard_title</th>\n",
       "      <th>dashboard_category</th>\n",
       "      <th>panel_id</th>\n",
       "      <th>panel_title</th>\n",
       "      <th>panel_type</th>\n",
       "      <th>panel_description</th>\n",
       "      <th>metric_query</th>\n",
       "      <th>query_ref_id</th>\n",
       "      <th>unit</th>\n",
       "      <th>thresholds_config</th>\n",
       "      <th>grid_x</th>\n",
       "      <th>grid_y</th>\n",
       "      <th>grid_w</th>\n",
       "      <th>grid_h</th>\n",
       "      <th>datasource_type</th>\n",
       "      <th>datasource_uid</th>\n",
       "    </tr>\n",
       "  </thead>\n",
       "  <tbody>\n",
       "    <tr>\n",
       "      <th>0</th>\n",
       "      <td>banking-system-v2</td>\n",
       "      <td>🏦 Banking System Overview v3</td>\n",
       "      <td>banking</td>\n",
       "      <td>banking-system-v2-1</td>\n",
       "      <td>🏥 Service Status</td>\n",
       "      <td>stat</td>\n",
       "      <td>NaN</td>\n",
       "      <td>up{job=\"banking-services\"}</td>\n",
       "      <td>A</td>\n",
       "      <td>short</td>\n",
       "      <td>{\"mode\": \"absolute\", \"steps\": [{\"color\": \"red\"...</td>\n",
       "      <td>0</td>\n",
       "      <td>1</td>\n",
       "      <td>8</td>\n",
       "      <td>8</td>\n",
       "      <td>prometheus</td>\n",
       "      <td>PBFA97CFB590B2093</td>\n",
       "    </tr>\n",
       "    <tr>\n",
       "      <th>1</th>\n",
       "      <td>banking-system-v2</td>\n",
       "      <td>🏦 Banking System Overview v3</td>\n",
       "      <td>banking</td>\n",
       "      <td>banking-system-v2-20</td>\n",
       "      <td>⏱ Service Uptime</td>\n",
       "      <td>stat</td>\n",
       "      <td>Time since service start</td>\n",
       "      <td>time() - process_start_time_seconds{job=\"banki...</td>\n",
       "      <td>A</td>\n",
       "      <td>dtdurations</td>\n",
       "      <td>{\"mode\": \"absolute\", \"steps\": [{\"color\": \"gree...</td>\n",
       "      <td>8</td>\n",
       "      <td>1</td>\n",
       "      <td>8</td>\n",
       "      <td>8</td>\n",
       "      <td>prometheus</td>\n",
       "      <td>PBFA97CFB590B2093</td>\n",
       "    </tr>\n",
       "    <tr>\n",
       "      <th>2</th>\n",
       "      <td>banking-system-v2</td>\n",
       "      <td>🏦 Banking System Overview v3</td>\n",
       "      <td>banking</td>\n",
       "      <td>banking-system-v2-21</td>\n",
       "      <td>ℹ️ Service Versions</td>\n",
       "      <td>stat</td>\n",
       "      <td>NaN</td>\n",
       "      <td>nodejs_version_info{job=\"banking-services\"} or...</td>\n",
       "      <td>A</td>\n",
       "      <td>short</td>\n",
       "      <td>{\"mode\": \"absolute\", \"steps\": [{\"color\": \"gree...</td>\n",
       "      <td>16</td>\n",
       "      <td>1</td>\n",
       "      <td>8</td>\n",
       "      <td>8</td>\n",
       "      <td>prometheus</td>\n",
       "      <td>PBFA97CFB590B2093</td>\n",
       "    </tr>\n",
       "    <tr>\n",
       "      <th>3</th>\n",
       "      <td>banking-system-v2</td>\n",
       "      <td>🏦 Banking System Overview v3</td>\n",
       "      <td>banking</td>\n",
       "      <td>banking-system-v2-2</td>\n",
       "      <td>📊 Request Rate by Endpoint</td>\n",
       "      <td>timeseries</td>\n",
       "      <td>NaN</td>\n",
       "      <td>sum by (route) (rate(http_request_duration_sec...</td>\n",
       "      <td>A</td>\n",
       "      <td>reqps</td>\n",
       "      <td>{\"mode\": \"absolute\", \"steps\": [{\"color\": \"gree...</td>\n",
       "      <td>0</td>\n",
       "      <td>10</td>\n",
       "      <td>8</td>\n",
       "      <td>8</td>\n",
       "      <td>prometheus</td>\n",
       "      <td>PBFA97CFB590B2093</td>\n",
       "    </tr>\n",
       "    <tr>\n",
       "      <th>4</th>\n",
       "      <td>banking-system-v2</td>\n",
       "      <td>🏦 Banking System Overview v3</td>\n",
       "      <td>banking</td>\n",
       "      <td>banking-system-v2-3</td>\n",
       "      <td>⚠️ Error Rate by Endpoint</td>\n",
       "      <td>timeseries</td>\n",
       "      <td>NaN</td>\n",
       "      <td>sum by (route) (rate(http_request_duration_sec...</td>\n",
       "      <td>A</td>\n",
       "      <td>percentunit</td>\n",
       "      <td>{\"mode\": \"absolute\", \"steps\": [{\"color\": \"gree...</td>\n",
       "      <td>8</td>\n",
       "      <td>10</td>\n",
       "      <td>8</td>\n",
       "      <td>8</td>\n",
       "      <td>prometheus</td>\n",
       "      <td>PBFA97CFB590B2093</td>\n",
       "    </tr>\n",
       "  </tbody>\n",
       "</table>\n",
       "</div>"
      ],
      "text/plain": [
       "       dashboard_uid               dashboard_title dashboard_category  \\\n",
       "0  banking-system-v2  🏦 Banking System Overview v3            banking   \n",
       "1  banking-system-v2  🏦 Banking System Overview v3            banking   \n",
       "2  banking-system-v2  🏦 Banking System Overview v3            banking   \n",
       "3  banking-system-v2  🏦 Banking System Overview v3            banking   \n",
       "4  banking-system-v2  🏦 Banking System Overview v3            banking   \n",
       "\n",
       "               panel_id                 panel_title  panel_type  \\\n",
       "0   banking-system-v2-1            🏥 Service Status        stat   \n",
       "1  banking-system-v2-20            ⏱ Service Uptime        stat   \n",
       "2  banking-system-v2-21         ℹ️ Service Versions        stat   \n",
       "3   banking-system-v2-2  📊 Request Rate by Endpoint  timeseries   \n",
       "4   banking-system-v2-3   ⚠️ Error Rate by Endpoint  timeseries   \n",
       "\n",
       "          panel_description  \\\n",
       "0                       NaN   \n",
       "1  Time since service start   \n",
       "2                       NaN   \n",
       "3                       NaN   \n",
       "4                       NaN   \n",
       "\n",
       "                                        metric_query query_ref_id  \\\n",
       "0                         up{job=\"banking-services\"}            A   \n",
       "1  time() - process_start_time_seconds{job=\"banki...            A   \n",
       "2  nodejs_version_info{job=\"banking-services\"} or...            A   \n",
       "3  sum by (route) (rate(http_request_duration_sec...            A   \n",
       "4  sum by (route) (rate(http_request_duration_sec...            A   \n",
       "\n",
       "          unit                                  thresholds_config  grid_x  \\\n",
       "0        short  {\"mode\": \"absolute\", \"steps\": [{\"color\": \"red\"...       0   \n",
       "1  dtdurations  {\"mode\": \"absolute\", \"steps\": [{\"color\": \"gree...       8   \n",
       "2        short  {\"mode\": \"absolute\", \"steps\": [{\"color\": \"gree...      16   \n",
       "3        reqps  {\"mode\": \"absolute\", \"steps\": [{\"color\": \"gree...       0   \n",
       "4  percentunit  {\"mode\": \"absolute\", \"steps\": [{\"color\": \"gree...       8   \n",
       "\n",
       "   grid_y  grid_w  grid_h datasource_type     datasource_uid  \n",
       "0       1       8       8      prometheus  PBFA97CFB590B2093  \n",
       "1       1       8       8      prometheus  PBFA97CFB590B2093  \n",
       "2       1       8       8      prometheus  PBFA97CFB590B2093  \n",
       "3      10       8       8      prometheus  PBFA97CFB590B2093  \n",
       "4      10       8       8      prometheus  PBFA97CFB590B2093  "
      ]
     },
     "execution_count": 8,
     "metadata": {},
     "output_type": "execute_result"
    }
   ],
   "source": [
    "df.head()"
   ]
  },
  {
   "cell_type": "code",
   "execution_count": 11,
   "id": "b3e2406d",
   "metadata": {},
   "outputs": [
    {
     "data": {
      "text/plain": [
       "dashboard_title\n",
       "Redis Cache Performance                          29\n",
       "💰 Transaction Performance Monitoring             19\n",
       "🚨 DDoS Detection & Security Monitoring v2        19\n",
       "Enhanced Kubernetes Cluster Overview             15\n",
       "Enhanced Node Resource Consumption               15\n",
       "🏦 Banking System Overview v3                     14\n",
       "RabbitMQ Monitor Comparison Dashboard2           13\n",
       "Enhanced Pod Autoscaling Dashboard               12\n",
       "Container Resource Usage                         12\n",
       "Banking Database Connection Pool Dashboard       12\n",
       "🎯 Enhanced Auto-Baselining & Threat Detection    10\n",
       "Banking Message Queue Dashboard                   9\n",
       "Container Resource Monitoring                     5\n",
       "🔍 Transaction Tracing Analytics                   5\n",
       "Name: count, dtype: int64"
      ]
     },
     "execution_count": 11,
     "metadata": {},
     "output_type": "execute_result"
    }
   ],
   "source": [
    "df['dashboard_title'].value_counts()\n"
   ]
  },
  {
   "cell_type": "code",
   "execution_count": 12,
   "id": "b052e94d",
   "metadata": {},
   "outputs": [
    {
     "data": {
      "text/plain": [
       "dashboard_uid           0\n",
       "dashboard_title         0\n",
       "dashboard_category      0\n",
       "panel_id                0\n",
       "panel_title             0\n",
       "panel_type              0\n",
       "panel_description     140\n",
       "metric_query            0\n",
       "query_ref_id            0\n",
       "unit                    0\n",
       "thresholds_config       0\n",
       "grid_x                  0\n",
       "grid_y                  0\n",
       "grid_w                  0\n",
       "grid_h                  0\n",
       "datasource_type         0\n",
       "datasource_uid          0\n",
       "dtype: int64"
      ]
     },
     "execution_count": 12,
     "metadata": {},
     "output_type": "execute_result"
    }
   ],
   "source": [
    "df.isna().sum()"
   ]
  },
  {
   "cell_type": "code",
   "execution_count": 14,
   "id": "e9ec13c6",
   "metadata": {},
   "outputs": [
    {
     "data": {
      "text/plain": [
       "np.int64(0)"
      ]
     },
     "execution_count": 14,
     "metadata": {},
     "output_type": "execute_result"
    }
   ],
   "source": [
    "df.duplicated().sum()"
   ]
  },
  {
   "cell_type": "code",
   "execution_count": 15,
   "id": "d177f5b6",
   "metadata": {},
   "outputs": [
    {
     "name": "stdout",
     "output_type": "stream",
     "text": [
      "First 10 panel IDs:\n",
      "['banking-system-v2-1', 'banking-system-v2-20', 'banking-system-v2-21', 'banking-system-v2-2', 'banking-system-v2-3', 'banking-system-v2-23', 'banking-system-v2-25', 'banking-system-v2-26', 'banking-system-v2-27', 'banking-system-v2-29']\n",
      "\n",
      "Does panel ID 'redis-cache-performance-6-A' exist?\n",
      "False\n",
      "\n",
      "Redis-related panel IDs:\n",
      "['redis-cache-perf-2', 'redis-cache-perf-3', 'redis-cache-perf-4', 'redis-cache-perf-101', 'redis-cache-perf-11', 'redis-cache-perf-103-A', 'redis-cache-perf-103-B', 'redis-cache-perf-104', 'redis-cache-perf-6', 'redis-cache-perf-7', 'redis-cache-perf-5', 'redis-cache-perf-106', 'redis-cache-perf-107-A', 'redis-cache-perf-107-B', 'redis-cache-perf-108-A', 'redis-cache-perf-108-B', 'redis-cache-perf-9-A', 'redis-cache-perf-10', 'redis-cache-perf-110', 'redis-cache-perf-111', 'redis-cache-perf-112-A', 'redis-cache-perf-112-B', 'redis-cache-perf-113-A', 'redis-cache-perf-113-B', 'redis-cache-perf-8-A', 'redis-cache-perf-8-B', 'redis-cache-perf-115-A', 'redis-cache-perf-115-B', 'redis-cache-perf-116']\n",
      "\n",
      "Sample panel IDs from different dashboards:\n",
      "Dashboard: banking-system-v2\n",
      "  Panels: ['banking-system-v2-1', 'banking-system-v2-20']\n",
      "\n",
      "Dashboard: enhanced-pod-autoscaling\n",
      "  Panels: ['enhanced-pod-autoscaling-1-A', 'enhanced-pod-autoscaling-1-B']\n",
      "\n",
      "Dashboard: enhanced-auto-baselining-v2\n",
      "  Panels: ['enhanced-auto-baselining-v2-1', 'enhanced-auto-baselining-v2-2']\n",
      "\n"
     ]
    }
   ],
   "source": [
    "# 1. Check a few sample panel IDs to see the format\n",
    "print(\"First 10 panel IDs:\")\n",
    "print(df['panel_id'].head(10).tolist())\n",
    "\n",
    "# 2. Check if the specific panel ID exists\n",
    "panel_id = 'redis-cache-performance-6-A'\n",
    "print(f\"\\nDoes panel ID '{panel_id}' exist?\")\n",
    "print(panel_id in df['panel_id'].values)\n",
    "\n",
    "# 3. Check redis-related panels\n",
    "print(\"\\nRedis-related panel IDs:\")\n",
    "redis_panels = df[df['panel_id'].str.contains('redis', case=False, na=False)]\n",
    "print(redis_panels['panel_id'].tolist())\n",
    "\n",
    "# 4. Check the structure of panel IDs\n",
    "print(\"\\nSample panel IDs from different dashboards:\")\n",
    "for dashboard_uid in df['dashboard_uid'].unique()[:3]:\n",
    "    sample_panels = df[df['dashboard_uid']\n",
    "                       == dashboard_uid]['panel_id'].head(2)\n",
    "    print(f\"Dashboard: {dashboard_uid}\")\n",
    "    print(f\"  Panels: {sample_panels.tolist()}\")\n",
    "    print()"
   ]
  },
  {
   "cell_type": "code",
   "execution_count": null,
   "id": "40324415",
   "metadata": {},
   "outputs": [],
   "source": []
  }
 ],
 "metadata": {
  "kernelspec": {
   "display_name": "watchtower-ai",
   "language": "python",
   "name": "python3"
  },
  "language_info": {
   "codemirror_mode": {
    "name": "ipython",
    "version": 3
   },
   "file_extension": ".py",
   "mimetype": "text/x-python",
   "name": "python",
   "nbconvert_exporter": "python",
   "pygments_lexer": "ipython3",
   "version": "3.11.13"
  }
 },
 "nbformat": 4,
 "nbformat_minor": 5
}
